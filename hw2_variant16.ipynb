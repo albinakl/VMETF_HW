{
 "cells": [
  {
   "cell_type": "markdown",
   "metadata": {},
   "source": [
    "# Задача 6\n",
    "\n",
    "## Линейное уравнение конвекции-диффузии с постоянными коэффициентами:\n",
    "$$\n",
    "    \\frac{\\partial u}{\\partial t} + v\\frac{\\partial u}{\\partial x}-D\\frac{\\partial^2 u}{\\partial x}^2 = 0\n",
    "$$\n",
    "### Задание\n",
    "\n",
    "Задать начальную функцию в виде \n",
    "$$\n",
    "    u(0, x) = \\phi(0, x, t_0)\n",
    "$$\n",
    "На границах интервала задавать нулевые значения функции. Используя схему Мак-Кормака и явно-неявную схему, провести расчеты при различных значениях параметров v, D, a, t0.\n",
    "\n",
    "Для нескольких моментов времени рассчитать максимальную и среднеквадратичную погрешности."
   ]
  },
  {
   "cell_type": "code",
   "execution_count": 318,
   "metadata": {},
   "outputs": [],
   "source": [
    "#Запишем необходимые константы:\n",
    "a = 3 #ширина волнового импульса \n",
    "v = 0.001\n",
    "D = 0.01\n",
    "t0 = 3 # время задержки"
   ]
  },
  {
   "cell_type": "code",
   "execution_count": 319,
   "metadata": {},
   "outputs": [],
   "source": [
    "## Запишем сюда все необходимые функции\n",
    "from math import pow, log, sqrt, sin, cos, e, pi, exp, erf\n",
    "import numpy as np\n",
    "from scipy.integrate import quad\n",
    "import pandas as pd\n",
    "import matplotlib.pyplot as plt\n",
    "from matplotlib import animation, rc\n",
    "from IPython.display import HTML\n",
    "\n",
    "#единичный прямоугольный импульс\n",
    "def func_rect(x, a):\n",
    "    if (x*x <= a*a):\n",
    "        return 1\n",
    "    else:\n",
    "        return 0\n",
    "\n",
    "#функция ошибок\n",
    "def integrand(x):\n",
    "     return -x\n",
    "    \n",
    "def func_F(z):\n",
    "    #I = quad(integrand, 0, z)\n",
    "    #return I[1]*2/sqrt(pi)\n",
    "    return erf(z)\n",
    "\n",
    "#точное решение\n",
    "def phi(t, x, t0):\n",
    "    if (t > 0 or t0 > 0):\n",
    "        val1 = ( a-x+v*t ) / sqrt(4*D*(t+t0))\n",
    "        val2 = ( a+x-v*t ) / sqrt(4*D*(t+t0))\n",
    "        return 0.5 * (func_F(val1) + func_F(val2))\n",
    "    elif (t == 0 & t0 == 0):\n",
    "        return func_rect(x, a)"
   ]
  },
  {
   "cell_type": "markdown",
   "metadata": {},
   "source": [
    "### Схема Мак_Кормака\n",
    "$$\n",
    "            \\bar{u}_j-u_j+r({F}_{j+1}-{F}_{j})-\\mu({u}_{j+1}-2{u}_{j}+{u}_{j-1})=0, {F}_j={u_jv}, \\mu = v\\tau/h^2 \n",
    "$$\n",
    "$$\n",
    "\\bar{u}_j-\\frac{1}{2}(u_j+\\bar{u}_j)+\\frac{r}{2}(\\bar{F}_j-\\bar{F}_{j-1})-\\frac{\\mu}{2}(\\bar{u}_{j+1}-2\\bar{u}_{j}+\\bar{u}_{j-1})=0, \\hat{F}={\\hat{u}_jv}, \\mu = v\\tau/h^2\n",
    "$$"
   ]
  },
  {
   "cell_type": "code",
   "execution_count": 320,
   "metadata": {},
   "outputs": [],
   "source": [
    "def func_predictor(Xa, Xb, Xc, v, mu, r):\n",
    "    return Xb-r*v*(Xc-Xb)+mu*(Xc-2*Xb+Xa)\n",
    "\n",
    "def func_corrector(Xb, Pa, Pb, Pc, v, mu, r):\n",
    "    return 0.5*(Xb+Pb)-0.5*r*v*(Pb-Pa)+0.5*mu*(Pc-2*Pb+Pa)\n",
    "\n",
    "#напишем функцию для разностной схемы\n",
    "def func_MakKormak(lowerlayer, v, mu, r, t):\n",
    "    #используем первое уравнение - предиктор\n",
    "    pred_layer = []\n",
    "    pred_layer.append(phi(t, 0, t0)) #нулевое граничное условие\n",
    "    for i in range(1, N-1):\n",
    "        pred_layer.append(func_predictor(lowerlayer[i-1], lowerlayer[i], lowerlayer[i+1], v, mu, r))\n",
    "    pred_layer.append(phi(t, 0, t0)) #нулевое граничное условие\n",
    "\n",
    "    #используем второе уравнение - корректор\n",
    "    layer = []\n",
    "    layer.append(phi(t, 0, t0)) #нулевое граничное условие\n",
    "    for i in range(1, N-1):\n",
    "        layer.append(func_corrector(lowerlayer[i], pred_layer[i-1], pred_layer[i], pred_layer[i+1], v, mu, r))\n",
    "    layer.append(phi(t, 0, t0)) #нулевое граничное условие\n",
    "    return layer"
   ]
  },
  {
   "cell_type": "code",
   "execution_count": 350,
   "metadata": {},
   "outputs": [],
   "source": [
    "x1=-5\n",
    "x2=5\n",
    "N=400\n",
    "tau=0.001\n",
    "h=(x2-x1)/N\n",
    "\n",
    "r=tau/h\n",
    "mu=D*tau/h/h\n",
    "\n",
    "#Задаем начальную функцию\n",
    "x=[]\n",
    "for i in range(0, N):\n",
    "    x.append(x1+(x2-x1)/N*i)\n",
    "    \n",
    "#Задаем начальные условия\n",
    "layer=[]\n",
    "for i in range(0, N):\n",
    "    layer.append(phi(t0, x[i], t0))\n",
    "\n",
    "#запустим разностную схему\n",
    "res=[]\n",
    "for n in range(0, 500):\n",
    "        layer=func_MakKormak(layer, v, mu, r, t0+tau*n)\n",
    "        if (n % 10 == 0):\n",
    "            res.append(layer)"
   ]
  },
  {
   "cell_type": "code",
   "execution_count": 354,
   "metadata": {},
   "outputs": [
    {
     "data": {
      "image/png": "[encoded data removed]",
      "text/plain": [
       "<Figure size 432x288 with 1 Axes>"
      ]
     },
     "metadata": {
      "needs_background": "light"
     },
     "output_type": "display_data"
    }
   ],
   "source": [
    "#постороим график результатов\n",
    "for i in range(len(res)):\n",
    "        plt.plot(x, res[i], color='red', label='Приближение')\n",
    "\n",
    "#theory\n",
    "theory=[]\n",
    "for i in range(len(res)):\n",
    "    th1=[]\n",
    "    for elem in x:\n",
    "        th1.append(phi(t0+i*tau, elem, t0))\n",
    "    theory.append(th1)\n",
    "    \n",
    "for i in range(len(res)):\n",
    "        plt.plot(x, theory[i], color='black', label='Теория')\n",
    "    \n",
    "plt.show()"
   ]
  },
  {
   "cell_type": "code",
   "execution_count": 353,
   "metadata": {},
   "outputs": [
    {
     "name": "stdout",
     "output_type": "stream",
     "text": [
      "50 0.016 0.04\n"
     ]
    }
   ],
   "source": [
    "print(len(res), mu, r)"
   ]
  },
  {
   "cell_type": "code",
   "execution_count": 324,
   "metadata": {},
   "outputs": [],
   "source": [
    "def find_emax(results, theory, i):\n",
    "    emax=0\n",
    "    for j in range(len(results[i])):\n",
    "        if emax<abs(results[i][j]-theory[i][j]):\n",
    "            emax=abs(results[i][j]-theory[i][j])\n",
    "    return emax\n",
    "    \n",
    "def find_erms(results, theory, i):\n",
    "    erms=0\n",
    "    for j in range(len(results[i])):\n",
    "        foo=abs(results[i][j]-theory[i][j])\n",
    "        erms+=pow(foo, 2)\n",
    "    return sqrt(erms/len(results[i]))\n",
    "\n",
    "def find_TV(results, i):\n",
    "    TV=0\n",
    "    for j in range(len(results[i])-1):\n",
    "        TV+=abs(results[i][j+1]-results[i][j])\n",
    "    return TV"
   ]
  },
  {
   "cell_type": "code",
   "execution_count": 325,
   "metadata": {},
   "outputs": [
    {
     "name": "stdout",
     "output_type": "stream",
     "text": [
      "time moment 0.015  from  0.05\n",
      "emax 0.9999999961521633\n",
      "erms 0.08904452979438769\n",
      "TV 3.999994617514721\n",
      "time moment 0.03  from  0.05\n",
      "emax 0.9999999959854893\n",
      "erms 0.09980653699073237\n",
      "TV 3.9999775722661806\n"
     ]
    }
   ],
   "source": [
    "#ошибки\n",
    "print ('time moment', 15*tau, ' from ', len(res)*tau)\n",
    "print ('emax', find_emax(res, theory, i=15)) #i - time mark\n",
    "print ('erms', find_erms(res, theory, i=15)) #i - time mark\n",
    "print ('TV', find_TV(res, i=15))\n",
    "\n",
    "print ('time moment', 30*tau, ' from ', len(res)*tau)\n",
    "print ('emax', find_emax(res, theory, i=30)) #i - time mark\n",
    "print ('erms', find_erms(res, theory, i=30)) #i - time mark\n",
    "print ('TV', find_TV(res, i=30))"
   ]
  },
  {
   "cell_type": "markdown",
   "metadata": {},
   "source": [
    "### Применим явно-неявную схему\n",
    "\n",
    "$$\n",
    "    \\hat{u}_j - u_j + r(u_j - u_{j-1}) - \\mu(\\hat{u}_{j+1} - 2\\hat{u}_j + \\hat{u}_{j-1}) = 0 \n",
    "$$"
   ]
  },
  {
   "cell_type": "code",
   "execution_count": 335,
   "metadata": {},
   "outputs": [],
   "source": [
    "def make_newlayer(mu, r, layer, N, t, t0):\n",
    "    a=-mu\n",
    "    c=1+2*mu\n",
    "    b=-mu\n",
    "    f=(1-r)*layer[0]\n",
    "    arr_c=[]\n",
    "    arr_f=[]\n",
    "    \n",
    "    #i=1\n",
    "    m=-mu/c\n",
    "    c=(1+2*mu)-m*b\n",
    "    f=(1-r)*layer[1]+r*phi(t, x[0]-(x[1]-x[0]), t0)\n",
    "    #f=(1-r)*layer[1]+r*phi(t, 0, t0)\n",
    "    arr_c.append(c)\n",
    "    arr_f.append(f)\n",
    "    \n",
    "    for i in range(2, N):\n",
    "        m=-mu/c\n",
    "        c=(1+2*mu)-m*b\n",
    "        f=(1-r)*layer[i]+r*layer[i-1]\n",
    "        arr_c.append(c)\n",
    "        arr_f.append(f)\n",
    "    \n",
    "    #i=N\n",
    "    m=-mu/c\n",
    "    c=(1+2*mu)-m*b\n",
    "    f=(1-r)*phi(t, x[-1]+(x[1]-x[0]), t0)+r*layer[i]\n",
    "    #f=(1-r)*phi(t, 0, t0)+r*layer[i]\n",
    "    arr_c.append(c)\n",
    "    arr_f.append(f)\n",
    "    \n",
    "    newlayer=[]\n",
    "    #print(arr_f[-1], arr_c[-1])\n",
    "    #print(arr_f[-1]/arr_c[-1])\n",
    "    newlayer.insert(0, arr_f[-1]/arr_c[-1])\n",
    "    \n",
    "    for i in reversed(range(0, N-1)):\n",
    "        newlayer.insert(0, (arr_f[i]+mu*newlayer[0])/arr_c[i])\n",
    "    #print(len(newlayer), i, len(arr_f))\n",
    "    return newlayer"
   ]
  },
  {
   "cell_type": "code",
   "execution_count": 346,
   "metadata": {},
   "outputs": [],
   "source": [
    "x1=-5\n",
    "x2=5\n",
    "N=400\n",
    "tau=0.001\n",
    "h=(x2-x1)/N\n",
    "\n",
    "r=tau/h\n",
    "mu=D*tau/h/h\n",
    "\n",
    "#Задаем начальную функцию\n",
    "x=[]\n",
    "for i in range(0, N):\n",
    "    x.append(x1+(x2-x1)/N*i)\n",
    "    \n",
    "#Задаем начальные условия\n",
    "layer=[]\n",
    "for i in range(0, N):\n",
    "    layer.append(phi(t0, x[i], t0))\n",
    "\n",
    "#запустим разностную схему\n",
    "res=[]\n",
    "for n in range(0, 500):\n",
    "        #print(len(layer), '!')\n",
    "        layer=make_newlayer(mu, r, layer, N, t0+tau*n, t0)\n",
    "        #print(len(layer), '!')\n",
    "        if (n % 10 == 0):\n",
    "            res.append(layer)"
   ]
  },
  {
   "cell_type": "code",
   "execution_count": 347,
   "metadata": {},
   "outputs": [
    {
     "data": {
      "image/png": "[encoded data removed]",
      "text/plain": [
       "<Figure size 432x288 with 1 Axes>"
      ]
     },
     "metadata": {
      "needs_background": "light"
     },
     "output_type": "display_data"
    }
   ],
   "source": [
    "#постороим график результатов\n",
    "for i in range(len(res)):\n",
    "        plt.plot(x, res[i], color='red')\n",
    "\n",
    "#theory\n",
    "theory=[]\n",
    "for i in range(len(res)):\n",
    "    th1=[]\n",
    "    for elem in x:\n",
    "        th1.append(phi(t0+i*tau, elem, t0))\n",
    "    theory.append(th1)\n",
    "    \n",
    "for i in range(len(res)):\n",
    "        plt.plot(x, theory[i], color='black')\n",
    "plt.show()"
   ]
  },
  {
   "cell_type": "code",
   "execution_count": 348,
   "metadata": {},
   "outputs": [
    {
     "name": "stdout",
     "output_type": "stream",
     "text": [
      "time moment 0.015  from  0.05\n",
      "emax 0.9999999879097544\n",
      "erms 0.7233595103974007\n",
      "TV 0.09479255334037795\n",
      "time moment 0.03  from  0.05\n",
      "emax 0.9999999998402763\n",
      "erms 0.7488765512465555\n",
      "TV 0.007810155631762165\n"
     ]
    }
   ],
   "source": [
    "#ошибки\n",
    "print ('time moment', 15*tau, ' from ', len(res)*tau)\n",
    "print ('emax', find_emax(res, theory, i=15)) #i - time mark\n",
    "print ('erms', find_erms(res, theory, i=15)) #i - time mark\n",
    "print ('TV', find_TV(res, i=15))\n",
    "\n",
    "print ('time moment', 30*tau, ' from ', len(res)*tau)\n",
    "print ('emax', find_emax(res, theory, i=30)) #i - time mark\n",
    "print ('erms', find_erms(res, theory, i=30)) #i - time mark\n",
    "print ('TV', find_TV(res, i=30))"
   ]
  },
  {
   "cell_type": "code",
   "execution_count": 345,
   "metadata": {},
   "outputs": [
    {
     "name": "stdout",
     "output_type": "stream",
     "text": [
      "0.016 0.4\n"
     ]
    }
   ],
   "source": [
    "print(mu, r)"
   ]
  },
  {
   "cell_type": "code",
   "execution_count": null,
   "metadata": {},
   "outputs": [],
   "source": []
  },
  {
   "cell_type": "code",
   "execution_count": null,
   "metadata": {},
   "outputs": [],
   "source": []
  }
 ],
 "metadata": {
  "kernelspec": {
   "display_name": "Python 3",
   "language": "python",
   "name": "python3"
  },
  "language_info": {
   "codemirror_mode": {
    "name": "ipython",
    "version": 3
   },
   "file_extension": ".py",
   "mimetype": "text/x-python",
   "name": "python",
   "nbconvert_exporter": "python",
   "pygments_lexer": "ipython3",
   "version": "3.7.4"
  }
 },
 "nbformat": 4,
 "nbformat_minor": 2
}
